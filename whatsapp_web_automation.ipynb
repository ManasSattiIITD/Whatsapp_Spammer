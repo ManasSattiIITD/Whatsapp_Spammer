{
 "cells": [
  {
   "cell_type": "code",
   "execution_count": 1,
   "metadata": {},
   "outputs": [],
   "source": [
    "from selenium import webdriver\n",
    "import time"
   ]
  },
  {
   "cell_type": "code",
   "execution_count": 2,
   "metadata": {},
   "outputs": [],
   "source": [
    "browser = webdriver.Chrome(r\"C:\\development\\chromedriver.exe\")"
   ]
  },
  {
   "cell_type": "code",
   "execution_count": 10,
   "metadata": {},
   "outputs": [],
   "source": [
    "browser.get(\"https://web.whatsapp.com/\")\n",
    "name_of_the_friend = \"john\" "
   ]
  },
  {
   "cell_type": "code",
   "execution_count": 17,
   "metadata": {},
   "outputs": [],
   "source": [
    "tmep = browser.find_element_by_class_name(\"_2zCfw\")\n",
    "tmep.send_keys(name_of_the_friend)\n",
    "time.sleep(0.5)"
   ]
  },
  {
   "cell_type": "code",
   "execution_count": 18,
   "metadata": {},
   "outputs": [
    {
     "data": {
      "text/plain": [
       "[<selenium.webdriver.remote.webelement.WebElement (session=\"8a9ec43c4e32a122eb40c521103a0071\", element=\"6fc684f5-0a50-443e-8f5e-3dc714f67bc0\")>,\n",
       " <selenium.webdriver.remote.webelement.WebElement (session=\"8a9ec43c4e32a122eb40c521103a0071\", element=\"8c3dc7a7-b0af-4c09-a9d8-e878d74fe443\")>,\n",
       " <selenium.webdriver.remote.webelement.WebElement (session=\"8a9ec43c4e32a122eb40c521103a0071\", element=\"37dad4b2-99c0-4583-b5e7-76ec67f9d3dd\")>,\n",
       " <selenium.webdriver.remote.webelement.WebElement (session=\"8a9ec43c4e32a122eb40c521103a0071\", element=\"53ebccca-0746-48f9-805e-1c762d39abda\")>,\n",
       " <selenium.webdriver.remote.webelement.WebElement (session=\"8a9ec43c4e32a122eb40c521103a0071\", element=\"015f5dfa-b59d-4dcc-a46b-1ba5b19a9cec\")>,\n",
       " <selenium.webdriver.remote.webelement.WebElement (session=\"8a9ec43c4e32a122eb40c521103a0071\", element=\"208e264d-be4e-4bd4-be0c-9ba3442e8d30\")>,\n",
       " <selenium.webdriver.remote.webelement.WebElement (session=\"8a9ec43c4e32a122eb40c521103a0071\", element=\"80c47353-8758-4639-bf00-8fdc9e4cd8c0\")>]"
      ]
     },
     "execution_count": 18,
     "metadata": {},
     "output_type": "execute_result"
    }
   ],
   "source": [
    "temp = browser.find_elements_by_class_name(\"_2WP9Q\")\n",
    "temp"
   ]
  },
  {
   "cell_type": "code",
   "execution_count": 23,
   "metadata": {},
   "outputs": [],
   "source": [
    "temp[-1].click()"
   ]
  },
  {
   "cell_type": "code",
   "execution_count": null,
   "metadata": {},
   "outputs": [],
   "source": [
    "for i in range(1,333):\n",
    "    temp = browser.find_element_by_xpath('//*[@id=\"main\"]/footer/div[1]/div[2]/div/div[2]')\n",
    "    temp.send_keys(\"*just for fun*\")\n",
    "    who = browser.find_element_by_class_name(\"_3M-N-\")\n",
    "    who\n",
    "    who.click()\n",
    "    time.sleep(0.8)\n"
   ]
  },
  {
   "cell_type": "code",
   "execution_count": null,
   "metadata": {},
   "outputs": [],
   "source": [
    "for i in range(1,22):\n",
    "    temp = browser.find_element_by_xpath('//*[@id=\"main\"]/footer/div[1]/div[2]/div/div[2]')\n",
    "    temp.send_keys(\"*credits - @manassatti*\")\n",
    "    who = browser.find_element_by_class_name(\"_3M-N-\")\n",
    "    who.click()"
   ]
  },
  {
   "cell_type": "code",
   "execution_count": null,
   "metadata": {},
   "outputs": [],
   "source": []
  }
 ],
 "metadata": {
  "kernelspec": {
   "display_name": "Python 3",
   "language": "python",
   "name": "python3"
  },
  "language_info": {
   "codemirror_mode": {
    "name": "ipython",
    "version": 3
   },
   "file_extension": ".py",
   "mimetype": "text/x-python",
   "name": "python",
   "nbconvert_exporter": "python",
   "pygments_lexer": "ipython3",
   "version": "3.7.4"
  }
 },
 "nbformat": 4,
 "nbformat_minor": 2
}
